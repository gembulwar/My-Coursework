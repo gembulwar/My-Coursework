{
 "cells": [
  {
   "cell_type": "markdown",
   "metadata": {},
   "source": [
    "# Setting the music21 environment\n",
    "When working with music21, we will frequently want to have a look to the musical score we are working with or to the partial or final results we are getting at in the form of musical scores. In order to do that, we need to link our score editor with music21. Besides, if we want to access our score editor from a Jupyter Notebook, we also nee to set the music21 environment accordingly.\n",
    "\n",
    "First of all, let's import music21 (make sure that you installed it already and that you are running this notebook from the Conda environment where you installed music21)."
   ]
  },
  {
   "cell_type": "code",
   "execution_count": 1,
   "metadata": {},
   "outputs": [],
   "source": [
    "from music21 import *"
   ]
  },
  {
   "cell_type": "markdown",
   "metadata": {},
   "source": [
    "Sometimes, depending on your OS, the environment is automatically set. So, let's see if this is the case."
   ]
  },
  {
   "cell_type": "code",
   "execution_count": 2,
   "metadata": {},
   "outputs": [],
   "source": [
    "# We load a score from the music21 corpus, and assign it to the variable s\n",
    "s = corpus.parse('bach/bwv244.46')\n",
    "\n",
    "# Now, we call the .show() method to open the score in our score editor\n",
    "# This might take few seconds\n",
    "s.show()"
   ]
  },
  {
   "cell_type": "markdown",
   "metadata": {},
   "source": [
    "If your score editor opened showing the score of BWV 244/46, then everything is working! You can skip the rest of this notebook.\n",
    "\n",
    "If it didn't, or you got an error message, you need to modify some user settings. For that, first of all, you need to find the path to the executable file of your score editor. Then, run the following cell (you have to give the path to your score editor in the third line).\n",
    "\n",
    "⇒ **Note**: if you get the following error message `UserSettingsException: An environment configuration file already exists; simply set values to modify.`, then, comment the second line (by adding a hash symbol before it: `#us.create()`), and run the cell again."
   ]
  },
  {
   "cell_type": "code",
   "execution_count": 4,
   "metadata": {},
   "outputs": [
    {
     "ename": "UserSettingsException",
     "evalue": "An environment configuration file already exists; simply set values to modify.",
     "output_type": "error",
     "traceback": [
      "\u001b[1;31m---------------------------------------------------------------------------\u001b[0m",
      "\u001b[1;31mUserSettingsException\u001b[0m                     Traceback (most recent call last)",
      "\u001b[1;32m<ipython-input-4-f44e5914316a>\u001b[0m in \u001b[0;36m<module>\u001b[1;34m\u001b[0m\n\u001b[0;32m      1\u001b[0m \u001b[0mus\u001b[0m \u001b[1;33m=\u001b[0m \u001b[0menvironment\u001b[0m\u001b[1;33m.\u001b[0m\u001b[0mUserSettings\u001b[0m\u001b[1;33m(\u001b[0m\u001b[1;33m)\u001b[0m\u001b[1;33m\u001b[0m\u001b[1;33m\u001b[0m\u001b[0m\n\u001b[1;32m----> 2\u001b[1;33m \u001b[0mus\u001b[0m\u001b[1;33m.\u001b[0m\u001b[0mcreate\u001b[0m\u001b[1;33m(\u001b[0m\u001b[1;33m)\u001b[0m\u001b[1;33m\u001b[0m\u001b[1;33m\u001b[0m\u001b[0m\n\u001b[0m\u001b[0;32m      3\u001b[0m \u001b[0mus\u001b[0m\u001b[1;33m[\u001b[0m\u001b[1;34m\"musicxmlPath\"\u001b[0m\u001b[1;33m]\u001b[0m \u001b[1;33m=\u001b[0m \u001b[1;34m\"C:\\Program Files\\Avid\\Sibelius 7\\Sibelius.exe\"\u001b[0m \u001b[1;31m# Write the path to your score editor here within the quotation marks\u001b[0m\u001b[1;33m\u001b[0m\u001b[1;33m\u001b[0m\u001b[0m\n\u001b[0;32m      4\u001b[0m \u001b[0mus\u001b[0m\u001b[1;33m[\u001b[0m\u001b[1;34m\"ipythonShowFormat\"\u001b[0m\u001b[1;33m]\u001b[0m \u001b[1;33m=\u001b[0m \u001b[1;34m\"musicxml\"\u001b[0m\u001b[1;33m\u001b[0m\u001b[1;33m\u001b[0m\u001b[0m\n",
      "\u001b[1;32m~\\Miniconda3\\envs\\CompMethEtno\\lib\\site-packages\\music21\\environment.py\u001b[0m in \u001b[0;36mcreate\u001b[1;34m(self)\u001b[0m\n\u001b[0;32m   1335\u001b[0m             \u001b[0mself\u001b[0m\u001b[1;33m.\u001b[0m\u001b[0m_environment\u001b[0m\u001b[1;33m.\u001b[0m\u001b[0mwrite\u001b[0m\u001b[1;33m(\u001b[0m\u001b[1;33m)\u001b[0m\u001b[1;33m\u001b[0m\u001b[1;33m\u001b[0m\u001b[0m\n\u001b[0;32m   1336\u001b[0m         \u001b[1;32melse\u001b[0m\u001b[1;33m:\u001b[0m\u001b[1;33m\u001b[0m\u001b[1;33m\u001b[0m\u001b[0m\n\u001b[1;32m-> 1337\u001b[1;33m             raise UserSettingsException(\n\u001b[0m\u001b[0;32m   1338\u001b[0m                 \u001b[1;34m'An environment configuration file already exists; '\u001b[0m\u001b[1;33m\u001b[0m\u001b[1;33m\u001b[0m\u001b[0m\n\u001b[0;32m   1339\u001b[0m                 'simply set values to modify.')\n",
      "\u001b[1;31mUserSettingsException\u001b[0m: An environment configuration file already exists; simply set values to modify."
     ]
    }
   ],
   "source": [
    "us = environment.UserSettings()\n",
    "us.create()\n",
    "us[\"musicxmlPath\"] = \"C:\\Program Files\\Avid\\Sibelius 7\\Sibelius.exe\" # Write the path to your score editor here within the quotation marks\n",
    "us[\"ipythonShowFormat\"] = \"musicxml\""
   ]
  },
  {
   "cell_type": "markdown",
   "metadata": {},
   "source": [
    "Now, run the second cell (the one containing `s.show()`) again."
   ]
  }
 ],
 "metadata": {
  "kernelspec": {
   "display_name": "Python 3",
   "language": "python",
   "name": "python3"
  },
  "language_info": {
   "codemirror_mode": {
    "name": "ipython",
    "version": 3
   },
   "file_extension": ".py",
   "mimetype": "text/x-python",
   "name": "python",
   "nbconvert_exporter": "python",
   "pygments_lexer": "ipython3",
   "version": "3.8.1"
  }
 },
 "nbformat": 4,
 "nbformat_minor": 2
}
