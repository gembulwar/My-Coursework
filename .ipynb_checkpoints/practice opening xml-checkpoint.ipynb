{
 "cells": [
  {
   "cell_type": "code",
   "execution_count": 1,
   "metadata": {},
   "outputs": [],
   "source": [
    "from music21 import*"
   ]
  },
  {
   "cell_type": "code",
   "execution_count": 2,
   "metadata": {},
   "outputs": [],
   "source": [
    "path = './'\n",
    "\n",
    "FileName = 'tesss.xml'\n",
    "\n",
    "fn = path + FileName\n",
    "\n",
    "s = converter.parse(fn)"
   ]
  },
  {
   "cell_type": "code",
   "execution_count": 71,
   "metadata": {},
   "outputs": [],
   "source": [
    "s.show()"
   ]
  },
  {
   "cell_type": "code",
   "execution_count": 3,
   "metadata": {},
   "outputs": [],
   "source": [
    "p_instr = s.parts[0]"
   ]
  },
  {
   "cell_type": "code",
   "execution_count": 5,
   "metadata": {},
   "outputs": [
    {
     "name": "stdout",
     "output_type": "stream",
     "text": [
      "The instrumental part contains 3 measures.\n"
     ]
    }
   ],
   "source": [
    "mm_instr = p_instr.getElementsByClass('Measure').stream()\n",
    "\n",
    "print ((\"The instrumental part contains {} measures.\".format(len(mm_instr.elements))))"
   ]
  },
  {
   "cell_type": "code",
   "execution_count": 65,
   "metadata": {},
   "outputs": [],
   "source": [
    "nn_instr = p_instr.flat.notes.stream()"
   ]
  },
  {
   "cell_type": "code",
   "execution_count": 66,
   "metadata": {},
   "outputs": [
    {
     "name": "stdout",
     "output_type": "stream",
     "text": [
      "Nada E 7 kali di part satu-satunya di score ini.\n"
     ]
    }
   ],
   "source": [
    "#Berapa kali nada E nongol\n",
    "\n",
    "# Define counter\n",
    "e_counter = 0\n",
    "\n",
    "# Iterate over all the notes in nn_instr\n",
    "for n in nn_instr:\n",
    "    # Retrieve the pitch of note.\n",
    "    n_pitch = n.name\n",
    "    # Check if it is E\n",
    "    if n_pitch == 'E':\n",
    "        e_counter += 1\n",
    "\n",
    "# Print results\n",
    "print(\"Nada E {} kali di part satu-satunya di score ini.\".format(e_counter))"
   ]
  },
  {
   "cell_type": "code",
   "execution_count": 68,
   "metadata": {},
   "outputs": [
    {
     "name": "stdout",
     "output_type": "stream",
     "text": [
      "Di part ini mengandung nada E di oktaf-oktaf sebagai berikut:\n",
      "- E\n",
      "- E1\n",
      "- E\n",
      "- E2\n",
      "- E\n",
      "- E3\n",
      "- E\n",
      "- E5\n"
     ]
    }
   ],
   "source": [
    "# Empty list to save different octaves\n",
    "e_octaves = []\n",
    "\n",
    "# Iterate over all the notes in nn_instr\n",
    "for n in nn_instr:\n",
    "    # Retrieve the pitch of the note\n",
    "    n_pitch = n.name\n",
    "    # Retrieve the pitch with octave information\n",
    "    n_pitch_octave = n.nameWithOctave\n",
    "    # Check if it is E\n",
    "    if n_pitch == 'E':\n",
    "        # Check that the pitch with octave is not yet included in the e_octaves list\n",
    "        if n_pitch_octave not in e_octaves:\n",
    "            e_octaves.append(n_pitch)\n",
    "            e_octaves.append(n_pitch_octave)\n",
    "           \n",
    "            \n",
    "            \n",
    "# Print results\n",
    "print(\"Di part ini mengandung nada E di oktaf-oktaf sebagai berikut:\")\n",
    "for testestes in e_octaves:\n",
    "    print('-', testestes)"
   ]
  },
  {
   "cell_type": "code",
   "execution_count": 70,
   "metadata": {},
   "outputs": [
    {
     "name": "stdout",
     "output_type": "stream",
     "text": [
      "Keseluruhan nada E ada 53.85% dari part di Score.\n",
      "Lebih rinci,\n",
      "- E1 ada 23.08%\n",
      "- E2 ada 7.69%\n",
      "- E3 ada 15.38%\n",
      "- E5 ada 7.69%\n"
     ]
    }
   ],
   "source": [
    "# Counters\n",
    "e_counter = 0\n",
    "e1_counter = 0\n",
    "e2_counter = 0\n",
    "e3_counter = 0\n",
    "e5_counter = 0\n",
    "\n",
    "# Iterate over all the notes in nn_instr\n",
    "for n in nn_instr:\n",
    "    # Retrieve the pitch of the note\n",
    "    n_pitch = n.name\n",
    "    # Retrieve the pitch with octave information\n",
    "    n_pitch_octave = n.nameWithOctave\n",
    "    # Check if it is E\n",
    "    if n_pitch == 'E':\n",
    "        e_counter += 1\n",
    "        # Check the octave\n",
    "        if n_pitch_octave == 'E1':\n",
    "            e1_counter += 1\n",
    "        elif n_pitch_octave == 'E2':\n",
    "            e2_counter += 1\n",
    "        elif n_pitch_octave == 'E3':\n",
    "            e3_counter += 1\n",
    "        elif n_pitch_octave == 'E5':\n",
    "            e5_counter += 1\n",
    "                    \n",
    "            \n",
    "                    \n",
    "\n",
    "# Compute percentages\n",
    "total_notes = len(nn_instr)\n",
    "e_percentage = e_counter / total_notes * 100\n",
    "e1_percentage = e1_counter / total_notes * 100\n",
    "e2_percentage = e2_counter / total_notes * 100\n",
    "e3_percentage = e3_counter / total_notes * 100\n",
    "e5_percentage = e5_counter / total_notes * 100\n",
    "\n",
    "# Print results\n",
    "print('Keseluruhan nada E ada {:.2f}% dari part di Score.'.format(e_percentage))\n",
    "print('Lebih rinci,')\n",
    "print('- E1 ada {:.2f}%'.format(e1_percentage))\n",
    "print('- E2 ada {:.2f}%'.format(e2_percentage))\n",
    "print('- E3 ada {:.2f}%'.format(e3_percentage))\n",
    "print('- E5 ada {:.2f}%'.format(e5_percentage))"
   ]
  }
 ],
 "metadata": {
  "kernelspec": {
   "display_name": "Python 3",
   "language": "python",
   "name": "python3"
  },
  "language_info": {
   "codemirror_mode": {
    "name": "ipython",
    "version": 3
   },
   "file_extension": ".py",
   "mimetype": "text/x-python",
   "name": "python",
   "nbconvert_exporter": "python",
   "pygments_lexer": "ipython3",
   "version": "3.8.1"
  }
 },
 "nbformat": 4,
 "nbformat_minor": 4
}
